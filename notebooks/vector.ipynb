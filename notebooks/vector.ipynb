{
 "cells": [
  {
   "cell_type": "code",
   "execution_count": null,
   "id": "8c14a829",
   "metadata": {},
   "outputs": [],
   "source": [
    "from manim import VectorScene, Dot, config,ORIGIN\n",
    "import numpy as np"
   ]
  },
  {
   "cell_type": "code",
   "execution_count": null,
   "id": "9d50f791",
   "metadata": {},
   "outputs": [],
   "source": [
    "# Define a new class 'vector' that inherits from VectorScene\n",
    "class vector(VectorScene):\n",
    "    def __init__(self, *args, **kwargs):\n",
    "        # Call the parent class constructor\n",
    "        super().__init__(*args, **kwargs)\n",
    "        self.vectors = []      # List to store vectors\n",
    "        self.Labels = []       # List to store labels for vectors\n",
    "        self.animate = True    # Flag to control animation\n",
    "\n",
    "    def construct(self):\n",
    "        # Initialize the coordinate plane\n",
    "        self.plane_init()\n",
    "        # Create random vectors and their operations\n",
    "        self.CreateRandomVector()\n",
    "        # Run the animation sequence\n",
    "        self.run()\n",
    "\n",
    "    def CreateRandomVector(self):\n",
    "        # Generate two random 2D vectors with integer components between -5 and 5\n",
    "        vecA = np.random.randint(-5, 5, size=2)\n",
    "        vecB = np.random.randint(-5, 5, size=2)\n",
    "        sum = vecA + vecB      # Vector addition\n",
    "        sub = vecA - vecB      # Vector subtraction\n",
    "        Mul = vecA * 2         # Scalar multiplication\n",
    "        # Store all vectors in a list\n",
    "        self.vectors = [vecA, vecB, sum, sub, Mul]\n",
    "        # Corresponding LaTeX labels for each vector\n",
    "        self.Labels = [\"\\\\vec{A}\", \"\\\\vec{B}\", '\\\\vec{A} + \\\\vec{B}', '\\\\vec{A} - \\\\vec{B}', '\\\\vec{2A}']\n",
    "        # Colors for each vector\n",
    "        self.color = [\"RED\", \"BLUE\", \"GREEN\", \"YELLOW\", \"PURPLE\"]\n",
    "\n",
    "    def run(self):\n",
    "        i = 0\n",
    "        # Loop through each vector, label, and color\n",
    "        for vector, label, color in zip(self.vectors, self.Labels, self.color):\n",
    "            # Display the vector with its label and color\n",
    "            self.display_vector(vector, label, color)\n",
    "            self.wait(2)  # Wait for 2 seconds\n",
    "            if i > 1:\n",
    "                # Remove the last displayed vector and its label (keep only two on screen)\n",
    "                self.remove(*self.mobjects[-3:])\n",
    "            i += 1\n",
    "            self.wait(1)  # Wait for 1 second\n",
    "\n",
    "    def display_vector(self, vector, label, color):\n",
    "        # Add the vector to the scene with animation and color\n",
    "        vector = self.add_vector(vector, animate=self.animate, color=color)\n",
    "        # Add a label to the vector\n",
    "        self.label_vector(vector, label, animate=self.animate)\n",
    "        # Display the coordinates of the vector\n",
    "        self.vector_to_coords(vector=vector, clean_up=True)\n",
    "\n",
    "    def plane_init(self):\n",
    "        # Configuration for the coordinate plane\n",
    "        plane_config = {\n",
    "            \"x_range\": [-18, 18, 1],   # X-axis range and step\n",
    "            \"y_range\": [-12, 12, 1],   # Y-axis range and step\n",
    "            \"animate\": self.animate    # Animate the plane creation\n",
    "        }\n",
    "        # Add the coordinate plane and its coordinates to the scene\n",
    "        self.plane = self.add_plane(**plane_config).add_coordinates()\n",
    "        # Add a red dot at the origin\n",
    "        self.add(Dot(ORIGIN, radius=0.2, color=\"RED\"))\n"
   ]
  },
  {
   "cell_type": "code",
   "execution_count": null,
   "id": "284ab682",
   "metadata": {},
   "outputs": [],
   "source": [
    "\n",
    "config.frame_width = 36  # Set the width of the frame\n",
    "config.frame_height = 24  # Set the height of the frame\n",
    "config.output_file = \"../../../../demos/videos/vectoroperation.mp4\"\n",
    "scene = vector()\n",
    "scene.render();\n"
   ]
  },
  {
   "cell_type": "code",
   "execution_count": null,
   "id": "5bfebe0a",
   "metadata": {},
   "outputs": [],
   "source": [
    "!rm -rf \"media/\""
   ]
  },
  {
   "cell_type": "code",
   "execution_count": null,
   "id": "907f4080",
   "metadata": {},
   "outputs": [],
   "source": []
  }
 ],
 "metadata": {
  "kernelspec": {
   "display_name": "Gui",
   "language": "python",
   "name": "python3"
  },
  "language_info": {
   "codemirror_mode": {
    "name": "ipython",
    "version": 3
   },
   "file_extension": ".py",
   "mimetype": "text/x-python",
   "name": "python",
   "nbconvert_exporter": "python",
   "pygments_lexer": "ipython3",
   "version": "3.11.13"
  }
 },
 "nbformat": 4,
 "nbformat_minor": 5
}
